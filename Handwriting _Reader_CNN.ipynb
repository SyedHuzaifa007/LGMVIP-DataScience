{
 "cells": [
  {
   "cell_type": "code",
   "execution_count": 10,
   "id": "2c3275ff-8792-4d89-86e0-3b6f69891c8f",
   "metadata": {},
   "outputs": [],
   "source": [
    "#Importing Librarues & Modules\n",
    "import numpy as np\n",
    "import pandas as pd\n",
    "import tensorflow as tf\n",
    "from tensorflow.keras.datasets import mnist\n",
    "import matplotlib.pyplot as plt\n",
    "from tensorflow.keras.models import Sequential\n",
    "from tensorflow.keras.layers import Conv2D, MaxPooling2D, Dense, Flatten, Dropout\n",
    "from tensorflow.keras.optimizers import Adam\n",
    "from tensorflow.keras.utils import to_categorical"
   ]
  },
  {
   "cell_type": "code",
   "execution_count": 2,
   "id": "763c3e6b-ba61-4ec5-987d-d783f470d13b",
   "metadata": {},
   "outputs": [],
   "source": [
    "# Loading Data\n",
    "(train_images, train_labels), (test_images, test_labels) = mnist.load_data()"
   ]
  },
  {
   "cell_type": "code",
   "execution_count": 3,
   "id": "ecde6472-793c-44b2-8171-fff6e460f000",
   "metadata": {},
   "outputs": [],
   "source": [
    "# Normalizing Data\n",
    "train_images = train_images.reshape((60000, 28, 28, 1))\n",
    "train_images = train_images.astype('float32') / 255\n",
    "test_images = test_images.reshape((10000, 28, 28, 1))\n",
    "test_images = test_images.astype('float32') / 255"
   ]
  },
  {
   "cell_type": "code",
   "execution_count": 4,
   "id": "c779d033-8379-4bab-a86d-ac6563390f6b",
   "metadata": {},
   "outputs": [],
   "source": [
    "# One Hot Encoding Labels\n",
    "train_labels = to_categorical(train_labels)\n",
    "test_labels = to_categorical(test_labels)"
   ]
  },
  {
   "cell_type": "code",
   "execution_count": 6,
   "id": "d41e65fb-c2b2-4148-bc2e-27dc6ce352cb",
   "metadata": {},
   "outputs": [],
   "source": [
    "# Defining Model\n",
    "model = Sequential()\n",
    "model.add(Conv2D(32, (3,3), activation = 'relu', input_shape = (28,28,1)))\n",
    "model.add(MaxPooling2D((2,2)))\n",
    "model.add(Conv2D(64, (3,3), activation = 'relu'))\n",
    "model.add(MaxPooling2D((2,2)))\n",
    "model.add(Conv2D(64, (3,3), activation = 'relu'))"
   ]
  },
  {
   "cell_type": "code",
   "execution_count": 7,
   "id": "7c2565b4-277b-4d3e-a962-1f7eb742faf0",
   "metadata": {},
   "outputs": [
    {
     "name": "stdout",
     "output_type": "stream",
     "text": [
      "Model: \"sequential_1\"\n",
      "_________________________________________________________________\n",
      " Layer (type)                Output Shape              Param #   \n",
      "=================================================================\n",
      " conv2d (Conv2D)             (None, 26, 26, 32)        320       \n",
      "                                                                 \n",
      " max_pooling2d (MaxPooling2D  (None, 13, 13, 32)       0         \n",
      " )                                                               \n",
      "                                                                 \n",
      " conv2d_1 (Conv2D)           (None, 11, 11, 64)        18496     \n",
      "                                                                 \n",
      " max_pooling2d_1 (MaxPooling  (None, 5, 5, 64)         0         \n",
      " 2D)                                                             \n",
      "                                                                 \n",
      " conv2d_2 (Conv2D)           (None, 3, 3, 64)          36928     \n",
      "                                                                 \n",
      "=================================================================\n",
      "Total params: 55,744\n",
      "Trainable params: 55,744\n",
      "Non-trainable params: 0\n",
      "_________________________________________________________________\n"
     ]
    }
   ],
   "source": [
    "# Summary of The Model\n",
    "model.summary()"
   ]
  },
  {
   "cell_type": "code",
   "execution_count": 11,
   "id": "2ef674a6-6219-41fc-b5f7-43c16f02826c",
   "metadata": {},
   "outputs": [],
   "source": [
    "# Adding Classifier on The Top of The Convnet\n",
    "model.add(Flatten())\n",
    "model.add(Dense(64, activation='relu'))\n",
    "model.add(Dense(10, activation='softmax'))"
   ]
  },
  {
   "cell_type": "code",
   "execution_count": 12,
   "id": "9ad8e15f-c824-4bbb-a26e-5bf3f42f6185",
   "metadata": {},
   "outputs": [
    {
     "name": "stdout",
     "output_type": "stream",
     "text": [
      "Model: \"sequential_1\"\n",
      "_________________________________________________________________\n",
      " Layer (type)                Output Shape              Param #   \n",
      "=================================================================\n",
      " conv2d (Conv2D)             (None, 26, 26, 32)        320       \n",
      "                                                                 \n",
      " max_pooling2d (MaxPooling2D  (None, 13, 13, 32)       0         \n",
      " )                                                               \n",
      "                                                                 \n",
      " conv2d_1 (Conv2D)           (None, 11, 11, 64)        18496     \n",
      "                                                                 \n",
      " max_pooling2d_1 (MaxPooling  (None, 5, 5, 64)         0         \n",
      " 2D)                                                             \n",
      "                                                                 \n",
      " conv2d_2 (Conv2D)           (None, 3, 3, 64)          36928     \n",
      "                                                                 \n",
      " flatten (Flatten)           (None, 576)               0         \n",
      "                                                                 \n",
      " dense (Dense)               (None, 64)                36928     \n",
      "                                                                 \n",
      " dense_1 (Dense)             (None, 10)                650       \n",
      "                                                                 \n",
      "=================================================================\n",
      "Total params: 93,322\n",
      "Trainable params: 93,322\n",
      "Non-trainable params: 0\n",
      "_________________________________________________________________\n"
     ]
    }
   ],
   "source": [
    "# Making Summary\n",
    "model.summary()"
   ]
  },
  {
   "cell_type": "code",
   "execution_count": 13,
   "id": "845f1a8c-13b3-47f8-94cf-56f0aae3245a",
   "metadata": {},
   "outputs": [],
   "source": [
    "# Compiling Model\n",
    "model.compile(optimizer='rmsprop', loss='categorical_crossentropy', metrics=['accuracy'])"
   ]
  },
  {
   "cell_type": "code",
   "execution_count": 14,
   "id": "0070df01-09df-4f1c-98a7-bdc62d0614d4",
   "metadata": {},
   "outputs": [
    {
     "name": "stdout",
     "output_type": "stream",
     "text": [
      "Epoch 1/10\n",
      "938/938 [==============================] - 70s 71ms/step - loss: 0.1710 - accuracy: 0.9467\n",
      "Epoch 2/10\n",
      "938/938 [==============================] - 60s 64ms/step - loss: 0.0464 - accuracy: 0.9860\n",
      "Epoch 3/10\n",
      "938/938 [==============================] - 66s 71ms/step - loss: 0.0325 - accuracy: 0.9903\n",
      "Epoch 4/10\n",
      "938/938 [==============================] - 55s 58ms/step - loss: 0.0252 - accuracy: 0.9920\n",
      "Epoch 5/10\n",
      "938/938 [==============================] - 60s 64ms/step - loss: 0.0196 - accuracy: 0.9939\n",
      "Epoch 6/10\n",
      "938/938 [==============================] - 58s 62ms/step - loss: 0.0153 - accuracy: 0.9952\n",
      "Epoch 7/10\n",
      "938/938 [==============================] - 56s 60ms/step - loss: 0.0127 - accuracy: 0.9961\n",
      "Epoch 8/10\n",
      "938/938 [==============================] - 54s 58ms/step - loss: 0.0105 - accuracy: 0.9966\n",
      "Epoch 9/10\n",
      "938/938 [==============================] - 53s 56ms/step - loss: 0.0095 - accuracy: 0.9968\n",
      "Epoch 10/10\n",
      "938/938 [==============================] - 55s 58ms/step - loss: 0.0077 - accuracy: 0.9975\n"
     ]
    },
    {
     "data": {
      "text/plain": [
       "<keras.callbacks.History at 0x7fa899fda970>"
      ]
     },
     "execution_count": 14,
     "metadata": {},
     "output_type": "execute_result"
    }
   ],
   "source": [
    "# Fitting Model on 10 Epochs\n",
    "model.fit(train_images, train_labels, epochs=10, batch_size=64)"
   ]
  },
  {
   "cell_type": "code",
   "execution_count": 17,
   "id": "faa7b186-7b15-451c-a439-33dbfdcd89cb",
   "metadata": {},
   "outputs": [
    {
     "name": "stdout",
     "output_type": "stream",
     "text": [
      "313/313 [==============================] - 2s 5ms/step - loss: 0.0477 - accuracy: 0.9908\n"
     ]
    }
   ],
   "source": [
    "# Evaluating Model\n",
    "test_loss, test_accuracy = model.evaluate(test_images, test_labels)"
   ]
  },
  {
   "cell_type": "code",
   "execution_count": 18,
   "id": "450753d5-3c01-4f73-8dd9-4a2e3d236844",
   "metadata": {},
   "outputs": [
    {
     "data": {
      "text/plain": [
       "0.9908000230789185"
      ]
     },
     "execution_count": 18,
     "metadata": {},
     "output_type": "execute_result"
    }
   ],
   "source": [
    "test_accuracy"
   ]
  }
 ],
 "metadata": {
  "kernelspec": {
   "display_name": "Python 3 (ipykernel)",
   "language": "python",
   "name": "python3"
  },
  "language_info": {
   "codemirror_mode": {
    "name": "ipython",
    "version": 3
   },
   "file_extension": ".py",
   "mimetype": "text/x-python",
   "name": "python",
   "nbconvert_exporter": "python",
   "pygments_lexer": "ipython3",
   "version": "3.8.8"
  }
 },
 "nbformat": 4,
 "nbformat_minor": 5
}
