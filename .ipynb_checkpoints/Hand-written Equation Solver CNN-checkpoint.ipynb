{
 "cells": [
  {
   "cell_type": "code",
   "execution_count": 4,
   "id": "ade3301d-3c1a-4cdf-9baa-e2f0d4a10632",
   "metadata": {},
   "outputs": [],
   "source": [
    "# Importing Necessary Libraries & Modules\n",
    "import os\n",
    "import numpy as np\n",
    "import pandas as pd\n",
    "import cv2\n",
    "import tensorflow as tf"
   ]
  },
  {
   "cell_type": "code",
   "execution_count": 5,
   "id": "0f57da5a-cb20-406c-a96f-103450c8dd5a",
   "metadata": {},
   "outputs": [],
   "source": [
    "from tensorflow.keras.models import Sequential, Model, model_from_json\n",
    "from tensorflow.keras.layers import Conv2D, MaxPooling2D, Dense, Input, Dropout, Flatten\n",
    "from tensorflow.keras.utils import to_categorical"
   ]
  },
  {
   "cell_type": "code",
   "execution_count": 6,
   "id": "01d7e7d5-5a46-4eb4-aac6-1999dfd5c841",
   "metadata": {},
   "outputs": [],
   "source": [
    "path = \"/Users/huzaifa/Documents/Datasets/Handwriting CNN/extracted_images\""
   ]
  },
  {
   "cell_type": "code",
   "execution_count": null,
   "id": "fdb0e748-cdef-4eba-ac22-33f7e6d6ca26",
   "metadata": {},
   "outputs": [],
   "source": []
  }
 ],
 "metadata": {
  "kernelspec": {
   "display_name": "Python 3",
   "language": "python",
   "name": "python3"
  },
  "language_info": {
   "codemirror_mode": {
    "name": "ipython",
    "version": 3
   },
   "file_extension": ".py",
   "mimetype": "text/x-python",
   "name": "python",
   "nbconvert_exporter": "python",
   "pygments_lexer": "ipython3",
   "version": "3.8.8"
  }
 },
 "nbformat": 4,
 "nbformat_minor": 5
}
