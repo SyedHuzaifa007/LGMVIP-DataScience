{
 "cells": [
  {
   "cell_type": "code",
   "execution_count": 4,
   "id": "ade3301d-3c1a-4cdf-9baa-e2f0d4a10632",
   "metadata": {},
   "outputs": [],
   "source": [
    "# Importing Necessary Libraries & Modules\n",
    "import os\n",
    "import numpy as np\n",
    "import pandas as pd\n",
    "import cv2\n",
    "import tensorflow as tf"
   ]
  },
  {
   "cell_type": "code",
   "execution_count": 5,
   "id": "0f57da5a-cb20-406c-a96f-103450c8dd5a",
   "metadata": {},
   "outputs": [],
   "source": [
    "from tensorflow.keras.models import Sequential, Model, model_from_json\n",
    "from tensorflow.keras.layers import Conv2D, MaxPooling2D, Dense, Input, Dropout, Flatten\n",
    "from tensorflow.keras.utils import to_categorical"
   ]
  },
  {
   "cell_type": "code",
   "execution_count": 6,
   "id": "01d7e7d5-5a46-4eb4-aac6-1999dfd5c841",
   "metadata": {},
   "outputs": [],
   "source": [
    "path = \"/Users/huzaifa/Documents/Datasets/Handwriting CNN/extracted_images\""
   ]
  },
  {
   "cell_type": "code",
   "execution_count": 7,
   "id": "fdb0e748-cdef-4eba-ac22-33f7e6d6ca26",
   "metadata": {},
   "outputs": [
    {
     "name": "stdout",
     "output_type": "stream",
     "text": [
      "['beta', 'pm', 'Delta', 'gamma', 'infty', 'rightarrow', '.DS_Store', 'div', 'gt', 'forward_slash', 'leq', 'mu', 'exists', 'in', 'times', 'sin', 'R', 'u', '9', '0', '{', '7', 'i', 'N', 'G', '+', ',', '6', 'z', '}', '1', '8', 'T', 'S', 'cos', 'A', '-', 'f', 'o', 'H', 'sigma', 'sqrt', 'pi', 'int', 'sum', 'lim', 'lambda', 'neq', 'log', 'ldots', 'forall', 'lt', 'theta', 'ascii_124', 'M', '!', 'alpha', 'j', 'C', ']', '(', 'd', 'v', 'prime', 'q', '=', '4', 'X', 'phi', '3', 'tan', 'e', ')', '[', 'b', 'k', 'l', 'geq', '2', 'y', '5', 'p', 'w']\n"
     ]
    }
   ],
   "source": [
    "print(os.listdir(path))"
   ]
  },
  {
   "cell_type": "code",
   "execution_count": 17,
   "id": "b9cde292-1e17-40de-bfee-e6e8adaf0846",
   "metadata": {},
   "outputs": [],
   "source": [
    "import splitfolders \n",
    "from tqdm import tqdm\n",
    "import random\n",
    "import torch\n",
    "# from fastai.vision import *\n",
    "%matplotlib inline\n",
    "# from fastai.callbacks import *"
   ]
  },
  {
   "cell_type": "code",
   "execution_count": 18,
   "id": "0614f29f-d8e0-4dca-aaf2-4213082e61ad",
   "metadata": {},
   "outputs": [],
   "source": [
    "image_load_size = 64\n",
    "batch_size = 24"
   ]
  },
  {
   "cell_type": "code",
   "execution_count": 19,
   "id": "34ecad2a-d730-4d18-bbc6-f3693c5e09aa",
   "metadata": {},
   "outputs": [],
   "source": [
    "def seed_everything(seed):\n",
    "    random.seed(seed)\n",
    "    os.environ['PYTHONHASHSEED'] = str(seed)\n",
    "    np.random.seed(seed)\n",
    "    torch.manual_seed(seed)\n",
    "    torch.cuda.manual_seed(seed)\n",
    "    torch.backends.cudnn.deterministic = True    \n",
    "\n",
    "SEED = 999\n",
    "seed_everything(SEED)"
   ]
  },
  {
   "cell_type": "code",
   "execution_count": null,
   "id": "ccfc7ad7-a77a-4acd-92fc-fa7c256ec536",
   "metadata": {},
   "outputs": [],
   "source": []
  }
 ],
 "metadata": {
  "kernelspec": {
   "display_name": "Python 3",
   "language": "python",
   "name": "python3"
  },
  "language_info": {
   "codemirror_mode": {
    "name": "ipython",
    "version": 3
   },
   "file_extension": ".py",
   "mimetype": "text/x-python",
   "name": "python",
   "nbconvert_exporter": "python",
   "pygments_lexer": "ipython3",
   "version": "3.8.8"
  }
 },
 "nbformat": 4,
 "nbformat_minor": 5
}
