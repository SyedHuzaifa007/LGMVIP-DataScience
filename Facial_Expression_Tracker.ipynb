{
 "cells": [
  {
   "cell_type": "code",
   "execution_count": 4,
   "id": "96aef3cb-4dcb-4728-a434-e2e2e66584a6",
   "metadata": {},
   "outputs": [],
   "source": [
    "# Importing Libraries & Modules\n",
    "import os\n",
    "import cv2\n",
    "import tensorflow as tf\n",
    "from tensorflow.keras.models import Sequential\n",
    "from tensorflow.keras.layers import Conv2D, MaxPooling2D, Dense, Dropout, Flatten\n",
    "from tensorflow.keras.optimizers import Adam\n",
    "from tensorflow.keras.preprocessing.image import ImageDataGenerator"
   ]
  },
  {
   "cell_type": "code",
   "execution_count": null,
   "id": "c2f5d6e0-95e4-4a4d-9fef-613e4fd6bd3c",
   "metadata": {},
   "outputs": [],
   "source": [
    "training_path = \"\"\n",
    "validation_path = \"\""
   ]
  },
  {
   "cell_type": "code",
   "execution_count": null,
   "id": "6a8fe925-c65e-4160-b011-ea75c8fb134e",
   "metadata": {},
   "outputs": [],
   "source": []
  },
  {
   "cell_type": "code",
   "execution_count": null,
   "id": "c682b994-bfc1-42fb-9c5d-c7c9cf12da52",
   "metadata": {},
   "outputs": [],
   "source": []
  },
  {
   "cell_type": "code",
   "execution_count": null,
   "id": "f63b6ef1-b25a-4962-9cbd-a2144a40f824",
   "metadata": {},
   "outputs": [],
   "source": []
  }
 ],
 "metadata": {
  "kernelspec": {
   "display_name": "Python 3",
   "language": "python",
   "name": "python3"
  },
  "language_info": {
   "codemirror_mode": {
    "name": "ipython",
    "version": 3
   },
   "file_extension": ".py",
   "mimetype": "text/x-python",
   "name": "python",
   "nbconvert_exporter": "python",
   "pygments_lexer": "ipython3",
   "version": "3.8.8"
  }
 },
 "nbformat": 4,
 "nbformat_minor": 5
}
