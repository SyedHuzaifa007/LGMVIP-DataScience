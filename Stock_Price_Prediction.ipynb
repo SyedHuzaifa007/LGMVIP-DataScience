{
 "cells": [
  {
   "cell_type": "code",
   "execution_count": 1,
   "id": "d2428acd-c117-4547-8759-0b585c87f760",
   "metadata": {},
   "outputs": [],
   "source": [
    "#  Importing Libraries & Modules\n",
    "import numpy as np\n",
    "import pandas as pd\n",
    "import tensorflow as tf\n",
    "import matplotlib.pyplot as plt\n",
    "from sklearn.preprocessing import MinMaxScaler\n",
    "from tensorflow.keras.layers import Dense, Dropout, LSTM\n",
    "from tensorflow.keras.models import Sequential\n",
    "from tensorflow.keras.optimizers import Adam\n",
    "from tensorflow.keras.losses import mean_squared_error"
   ]
  },
  {
   "cell_type": "code",
   "execution_count": 2,
   "id": "e23ddae7-d9ed-4e25-b0e3-634a261ff3e2",
   "metadata": {},
   "outputs": [
    {
     "data": {
      "text/html": [
       "<div>\n",
       "<style scoped>\n",
       "    .dataframe tbody tr th:only-of-type {\n",
       "        vertical-align: middle;\n",
       "    }\n",
       "\n",
       "    .dataframe tbody tr th {\n",
       "        vertical-align: top;\n",
       "    }\n",
       "\n",
       "    .dataframe thead th {\n",
       "        text-align: right;\n",
       "    }\n",
       "</style>\n",
       "<table border=\"1\" class=\"dataframe\">\n",
       "  <thead>\n",
       "    <tr style=\"text-align: right;\">\n",
       "      <th></th>\n",
       "      <th>Date</th>\n",
       "      <th>Open</th>\n",
       "      <th>High</th>\n",
       "      <th>Low</th>\n",
       "      <th>Last</th>\n",
       "      <th>Close</th>\n",
       "      <th>Total Trade Quantity</th>\n",
       "      <th>Turnover (Lacs)</th>\n",
       "    </tr>\n",
       "  </thead>\n",
       "  <tbody>\n",
       "    <tr>\n",
       "      <th>0</th>\n",
       "      <td>2018-09-28</td>\n",
       "      <td>234.05</td>\n",
       "      <td>235.95</td>\n",
       "      <td>230.20</td>\n",
       "      <td>233.50</td>\n",
       "      <td>233.75</td>\n",
       "      <td>3069914</td>\n",
       "      <td>7162.35</td>\n",
       "    </tr>\n",
       "    <tr>\n",
       "      <th>1</th>\n",
       "      <td>2018-09-27</td>\n",
       "      <td>234.55</td>\n",
       "      <td>236.80</td>\n",
       "      <td>231.10</td>\n",
       "      <td>233.80</td>\n",
       "      <td>233.25</td>\n",
       "      <td>5082859</td>\n",
       "      <td>11859.95</td>\n",
       "    </tr>\n",
       "    <tr>\n",
       "      <th>2</th>\n",
       "      <td>2018-09-26</td>\n",
       "      <td>240.00</td>\n",
       "      <td>240.00</td>\n",
       "      <td>232.50</td>\n",
       "      <td>235.00</td>\n",
       "      <td>234.25</td>\n",
       "      <td>2240909</td>\n",
       "      <td>5248.60</td>\n",
       "    </tr>\n",
       "    <tr>\n",
       "      <th>3</th>\n",
       "      <td>2018-09-25</td>\n",
       "      <td>233.30</td>\n",
       "      <td>236.75</td>\n",
       "      <td>232.00</td>\n",
       "      <td>236.25</td>\n",
       "      <td>236.10</td>\n",
       "      <td>2349368</td>\n",
       "      <td>5503.90</td>\n",
       "    </tr>\n",
       "    <tr>\n",
       "      <th>4</th>\n",
       "      <td>2018-09-24</td>\n",
       "      <td>233.55</td>\n",
       "      <td>239.20</td>\n",
       "      <td>230.75</td>\n",
       "      <td>234.00</td>\n",
       "      <td>233.30</td>\n",
       "      <td>3423509</td>\n",
       "      <td>7999.55</td>\n",
       "    </tr>\n",
       "  </tbody>\n",
       "</table>\n",
       "</div>"
      ],
      "text/plain": [
       "         Date    Open    High     Low    Last   Close  Total Trade Quantity  \\\n",
       "0  2018-09-28  234.05  235.95  230.20  233.50  233.75               3069914   \n",
       "1  2018-09-27  234.55  236.80  231.10  233.80  233.25               5082859   \n",
       "2  2018-09-26  240.00  240.00  232.50  235.00  234.25               2240909   \n",
       "3  2018-09-25  233.30  236.75  232.00  236.25  236.10               2349368   \n",
       "4  2018-09-24  233.55  239.20  230.75  234.00  233.30               3423509   \n",
       "\n",
       "   Turnover (Lacs)  \n",
       "0          7162.35  \n",
       "1         11859.95  \n",
       "2          5248.60  \n",
       "3          5503.90  \n",
       "4          7999.55  "
      ]
     },
     "execution_count": 2,
     "metadata": {},
     "output_type": "execute_result"
    }
   ],
   "source": [
    "# Importing Dataset\n",
    "path = \"Stock_Prediction_Dataset.csv\"\n",
    "raw_data = pd.read_csv(path)\n",
    "raw_data.head()"
   ]
  },
  {
   "cell_type": "code",
   "execution_count": 3,
   "id": "552204a6-1e1d-4147-96b1-ceaf51f0f98c",
   "metadata": {},
   "outputs": [
    {
     "data": {
      "text/html": [
       "<div>\n",
       "<style scoped>\n",
       "    .dataframe tbody tr th:only-of-type {\n",
       "        vertical-align: middle;\n",
       "    }\n",
       "\n",
       "    .dataframe tbody tr th {\n",
       "        vertical-align: top;\n",
       "    }\n",
       "\n",
       "    .dataframe thead th {\n",
       "        text-align: right;\n",
       "    }\n",
       "</style>\n",
       "<table border=\"1\" class=\"dataframe\">\n",
       "  <thead>\n",
       "    <tr style=\"text-align: right;\">\n",
       "      <th></th>\n",
       "      <th>Date</th>\n",
       "      <th>Open</th>\n",
       "      <th>High</th>\n",
       "      <th>Low</th>\n",
       "      <th>Last</th>\n",
       "      <th>Close</th>\n",
       "      <th>Total Trade Quantity</th>\n",
       "      <th>Turnover (Lacs)</th>\n",
       "    </tr>\n",
       "  </thead>\n",
       "  <tbody>\n",
       "    <tr>\n",
       "      <th>0</th>\n",
       "      <td>2018-09-28</td>\n",
       "      <td>234.05</td>\n",
       "      <td>235.95</td>\n",
       "      <td>230.20</td>\n",
       "      <td>233.50</td>\n",
       "      <td>233.75</td>\n",
       "      <td>3069914</td>\n",
       "      <td>7162.35</td>\n",
       "    </tr>\n",
       "    <tr>\n",
       "      <th>1</th>\n",
       "      <td>2018-09-27</td>\n",
       "      <td>234.55</td>\n",
       "      <td>236.80</td>\n",
       "      <td>231.10</td>\n",
       "      <td>233.80</td>\n",
       "      <td>233.25</td>\n",
       "      <td>5082859</td>\n",
       "      <td>11859.95</td>\n",
       "    </tr>\n",
       "    <tr>\n",
       "      <th>2</th>\n",
       "      <td>2018-09-26</td>\n",
       "      <td>240.00</td>\n",
       "      <td>240.00</td>\n",
       "      <td>232.50</td>\n",
       "      <td>235.00</td>\n",
       "      <td>234.25</td>\n",
       "      <td>2240909</td>\n",
       "      <td>5248.60</td>\n",
       "    </tr>\n",
       "    <tr>\n",
       "      <th>3</th>\n",
       "      <td>2018-09-25</td>\n",
       "      <td>233.30</td>\n",
       "      <td>236.75</td>\n",
       "      <td>232.00</td>\n",
       "      <td>236.25</td>\n",
       "      <td>236.10</td>\n",
       "      <td>2349368</td>\n",
       "      <td>5503.90</td>\n",
       "    </tr>\n",
       "    <tr>\n",
       "      <th>4</th>\n",
       "      <td>2018-09-24</td>\n",
       "      <td>233.55</td>\n",
       "      <td>239.20</td>\n",
       "      <td>230.75</td>\n",
       "      <td>234.00</td>\n",
       "      <td>233.30</td>\n",
       "      <td>3423509</td>\n",
       "      <td>7999.55</td>\n",
       "    </tr>\n",
       "  </tbody>\n",
       "</table>\n",
       "</div>"
      ],
      "text/plain": [
       "         Date    Open    High     Low    Last   Close  Total Trade Quantity  \\\n",
       "0  2018-09-28  234.05  235.95  230.20  233.50  233.75               3069914   \n",
       "1  2018-09-27  234.55  236.80  231.10  233.80  233.25               5082859   \n",
       "2  2018-09-26  240.00  240.00  232.50  235.00  234.25               2240909   \n",
       "3  2018-09-25  233.30  236.75  232.00  236.25  236.10               2349368   \n",
       "4  2018-09-24  233.55  239.20  230.75  234.00  233.30               3423509   \n",
       "\n",
       "   Turnover (Lacs)  \n",
       "0          7162.35  \n",
       "1         11859.95  \n",
       "2          5248.60  \n",
       "3          5503.90  \n",
       "4          7999.55  "
      ]
     },
     "execution_count": 3,
     "metadata": {},
     "output_type": "execute_result"
    }
   ],
   "source": [
    "# Making A Copy of The Dataset\n",
    "df = raw_data.copy()\n",
    "df.head()"
   ]
  },
  {
   "cell_type": "code",
   "execution_count": 4,
   "id": "8096f097-b334-494c-8461-d6122c7e8aff",
   "metadata": {},
   "outputs": [],
   "source": [
    "# Plotting Closing Index\n",
    "df = df.reset_index()['Close']"
   ]
  },
  {
   "cell_type": "code",
   "execution_count": 5,
   "id": "c0bb7f02-4ce3-4009-97a5-f924b54b7471",
   "metadata": {},
   "outputs": [
    {
     "data": {
      "text/plain": [
       "0    233.75\n",
       "1    233.25\n",
       "2    234.25\n",
       "3    236.10\n",
       "4    233.30\n",
       "Name: Close, dtype: float64"
      ]
     },
     "execution_count": 5,
     "metadata": {},
     "output_type": "execute_result"
    }
   ],
   "source": [
    "df .head()"
   ]
  },
  {
   "cell_type": "code",
   "execution_count": 6,
   "id": "a8aca758-f52c-46a1-ad50-e2e0c65787d8",
   "metadata": {},
   "outputs": [
    {
     "data": {
      "text/plain": [
       "[<matplotlib.lines.Line2D at 0x7fa772a20ac0>]"
      ]
     },
     "execution_count": 6,
     "metadata": {},
     "output_type": "execute_result"
    },
    {
     "data": {
      "image/png": "[encoded data removed]",
      "text/plain": [
       "<Figure size 432x288 with 1 Axes>"
      ]
     },
     "metadata": {
      "needs_background": "light"
     },
     "output_type": "display_data"
    }
   ],
   "source": [
    "plt.plot(df)"
   ]
  },
  {
   "cell_type": "code",
   "execution_count": 7,
   "id": "309133eb-3c22-410a-9443-79c767102701",
   "metadata": {},
   "outputs": [],
   "source": [
    "# Scaling Data\n",
    "scaler = MinMaxScaler(feature_range=(0,1))\n",
    "df = scaler.fit_transform(np.array(df).reshape(-1,1))"
   ]
  },
  {
   "cell_type": "code",
   "execution_count": 8,
   "id": "47526d2e-e938-4500-9934-b580c565fd0d",
   "metadata": {},
   "outputs": [
    {
     "name": "stdout",
     "output_type": "stream",
     "text": [
      "[[0.62418301]\n",
      " [0.62214052]\n",
      " [0.62622549]\n",
      " ...\n",
      " [0.1621732 ]\n",
      " [0.16319444]\n",
      " [0.16584967]]\n"
     ]
    }
   ],
   "source": [
    "print(df)"
   ]
  },
  {
   "cell_type": "code",
   "execution_count": 9,
   "id": "628dbc20-4f3d-4095-81c3-c432f9524ad7",
   "metadata": {},
   "outputs": [],
   "source": [
    "# Splitting Dataset Into Training And Testing Data\n",
    "training_size = int(len(df)*0.65)\n",
    "test_size = len(df) - training_size\n",
    "train_data, test_data = df[0:training_size,:], df[training_size:len(df), :1]"
   ]
  },
  {
   "cell_type": "code",
   "execution_count": 10,
   "id": "2de76554-89dd-4fd0-86a2-12d00c91357a",
   "metadata": {},
   "outputs": [],
   "source": [
    "# Converting An Array Into Dataset\n",
    "def create_dataset(dataset, time_step=1):\n",
    "\tdataX, dataY = [], []\n",
    "\tfor i in range(len(dataset) - time_step - 1):\n",
    "\t\ta = dataset[i:(i + time_step), 0]   \n",
    "\t\tdataX.append(a)\n",
    "\t\tdataY.append(dataset[i + time_step, 0])\n",
    "\treturn np.array(dataX), np.array(dataY)"
   ]
  },
  {
   "cell_type": "code",
   "execution_count": 11,
   "id": "cac1989e-1ccc-4fc9-8682-50f4d0036be4",
   "metadata": {},
   "outputs": [],
   "source": [
    "# Reshaping\n",
    "time_step = 100\n",
    "X_train, y_train = create_dataset(train_data, time_step)\n",
    "X_test, ytest = create_dataset(test_data, time_step)"
   ]
  },
  {
   "cell_type": "code",
   "execution_count": 12,
   "id": "04758256-d675-4be6-94e0-3141141e865d",
   "metadata": {},
   "outputs": [],
   "source": [
    "X_train =X_train.reshape(X_train.shape[0],X_train.shape[1] , 1)\n",
    "X_test = X_test.reshape(X_test.shape[0],X_test.shape[1] , 1)"
   ]
  },
  {
   "cell_type": "code",
   "execution_count": 13,
   "id": "f1796520-d7e5-47e7-8cf8-bfdfd83a1c86",
   "metadata": {},
   "outputs": [
    {
     "name": "stderr",
     "output_type": "stream",
     "text": [
      "2022-01-30 23:10:44.297569: I tensorflow/core/platform/cpu_feature_guard.cc:151] This TensorFlow binary is optimized with oneAPI Deep Neural Network Library (oneDNN) to use the following CPU instructions in performance-critical operations:  AVX2 FMA\n",
      "To enable them in other operations, rebuild TensorFlow with the appropriate compiler flags.\n"
     ]
    }
   ],
   "source": [
    "# Defining Model\n",
    "model = Sequential()\n",
    "model.add(LSTM(50,return_sequences = True, input_shape = (100,1)))\n",
    "model.add(LSTM(50,return_sequences = True))\n",
    "model.add(LSTM(50))\n",
    "model.add(Dense(1))\n",
    "model.compile(loss = 'mean_squared_error',optimizer = 'adam')"
   ]
  },
  {
   "cell_type": "code",
   "execution_count": 14,
   "id": "1e634dae-1e7f-4bf3-8bce-20dd863cf596",
   "metadata": {},
   "outputs": [
    {
     "name": "stdout",
     "output_type": "stream",
     "text": [
      "Model: \"sequential\"\n",
      "_________________________________________________________________\n",
      " Layer (type)                Output Shape              Param #   \n",
      "=================================================================\n",
      " lstm (LSTM)                 (None, 100, 50)           10400     \n",
      "                                                                 \n",
      " lstm_1 (LSTM)               (None, 100, 50)           20200     \n",
      "                                                                 \n",
      " lstm_2 (LSTM)               (None, 50)                20200     \n",
      "                                                                 \n",
      " dense (Dense)               (None, 1)                 51        \n",
      "                                                                 \n",
      "=================================================================\n",
      "Total params: 50,851\n",
      "Trainable params: 50,851\n",
      "Non-trainable params: 0\n",
      "_________________________________________________________________\n"
     ]
    }
   ],
   "source": [
    "# Model Summary\n",
    "model.summary()"
   ]
  },
  {
   "cell_type": "code",
   "execution_count": 15,
   "id": "3f6ccc91-357b-4edb-aefe-78d5bfe0c98e",
   "metadata": {},
   "outputs": [
    {
     "name": "stdout",
     "output_type": "stream",
     "text": [
      "Epoch 1/100\n",
      "20/20 [==============================] - 9s 243ms/step - loss: 0.0240 - val_loss: 0.0088\n",
      "Epoch 2/100\n",
      "20/20 [==============================] - 4s 191ms/step - loss: 0.0035 - val_loss: 0.0019\n",
      "Epoch 3/100\n",
      "20/20 [==============================] - 3s 162ms/step - loss: 0.0018 - val_loss: 0.0011\n",
      "Epoch 4/100\n",
      "20/20 [==============================] - 3s 161ms/step - loss: 0.0016 - val_loss: 0.0016\n",
      "Epoch 5/100\n",
      "20/20 [==============================] - 3s 169ms/step - loss: 0.0017 - val_loss: 0.0012\n",
      "Epoch 6/100\n",
      "20/20 [==============================] - 3s 170ms/step - loss: 0.0014 - val_loss: 0.0016\n",
      "Epoch 7/100\n",
      "20/20 [==============================] - 3s 165ms/step - loss: 0.0014 - val_loss: 0.0012\n",
      "Epoch 8/100\n",
      "20/20 [==============================] - 3s 171ms/step - loss: 0.0013 - val_loss: 0.0012\n",
      "Epoch 9/100\n",
      "20/20 [==============================] - 3s 166ms/step - loss: 0.0012 - val_loss: 9.3317e-04\n",
      "Epoch 10/100\n",
      "20/20 [==============================] - 4s 184ms/step - loss: 0.0015 - val_loss: 0.0012\n",
      "Epoch 11/100\n",
      "20/20 [==============================] - 4s 175ms/step - loss: 0.0011 - val_loss: 0.0010\n",
      "Epoch 12/100\n",
      "20/20 [==============================] - 3s 159ms/step - loss: 0.0011 - val_loss: 0.0011\n",
      "Epoch 13/100\n",
      "20/20 [==============================] - 3s 149ms/step - loss: 0.0010 - val_loss: 8.0754e-04\n",
      "Epoch 14/100\n",
      "20/20 [==============================] - 3s 152ms/step - loss: 0.0013 - val_loss: 0.0010\n",
      "Epoch 15/100\n",
      "20/20 [==============================] - 3s 151ms/step - loss: 0.0010 - val_loss: 7.0217e-04\n",
      "Epoch 16/100\n",
      "20/20 [==============================] - 3s 151ms/step - loss: 0.0010 - val_loss: 8.1113e-04\n",
      "Epoch 17/100\n",
      "20/20 [==============================] - 3s 155ms/step - loss: 8.9659e-04 - val_loss: 0.0010\n",
      "Epoch 18/100\n",
      "20/20 [==============================] - 3s 154ms/step - loss: 8.9773e-04 - val_loss: 8.3420e-04\n",
      "Epoch 19/100\n",
      "20/20 [==============================] - 3s 149ms/step - loss: 9.3338e-04 - val_loss: 8.3111e-04\n",
      "Epoch 20/100\n",
      "20/20 [==============================] - 3s 155ms/step - loss: 8.1071e-04 - val_loss: 8.2237e-04\n",
      "Epoch 21/100\n",
      "20/20 [==============================] - 3s 154ms/step - loss: 8.8873e-04 - val_loss: 6.9675e-04\n",
      "Epoch 22/100\n",
      "20/20 [==============================] - 3s 152ms/step - loss: 7.8351e-04 - val_loss: 9.0064e-04\n",
      "Epoch 23/100\n",
      "20/20 [==============================] - 3s 155ms/step - loss: 9.6347e-04 - val_loss: 7.8755e-04\n",
      "Epoch 24/100\n",
      "20/20 [==============================] - 3s 155ms/step - loss: 7.5908e-04 - val_loss: 7.8447e-04\n",
      "Epoch 25/100\n",
      "20/20 [==============================] - 3s 154ms/step - loss: 7.1679e-04 - val_loss: 8.3691e-04\n",
      "Epoch 26/100\n",
      "20/20 [==============================] - 3s 154ms/step - loss: 8.2095e-04 - val_loss: 6.3213e-04\n",
      "Epoch 27/100\n",
      "20/20 [==============================] - 3s 152ms/step - loss: 8.4455e-04 - val_loss: 8.4000e-04\n",
      "Epoch 28/100\n",
      "20/20 [==============================] - 3s 155ms/step - loss: 6.7793e-04 - val_loss: 6.8090e-04\n",
      "Epoch 29/100\n",
      "20/20 [==============================] - 3s 154ms/step - loss: 7.6846e-04 - val_loss: 7.4740e-04\n",
      "Epoch 30/100\n",
      "20/20 [==============================] - 3s 168ms/step - loss: 7.6138e-04 - val_loss: 0.0010\n",
      "Epoch 31/100\n",
      "20/20 [==============================] - 3s 153ms/step - loss: 7.7269e-04 - val_loss: 6.1752e-04\n",
      "Epoch 32/100\n",
      "20/20 [==============================] - 3s 153ms/step - loss: 6.8645e-04 - val_loss: 7.4637e-04\n",
      "Epoch 33/100\n",
      "20/20 [==============================] - 3s 153ms/step - loss: 6.9793e-04 - val_loss: 9.8211e-04\n",
      "Epoch 34/100\n",
      "20/20 [==============================] - 3s 153ms/step - loss: 6.7012e-04 - val_loss: 7.1693e-04\n",
      "Epoch 35/100\n",
      "20/20 [==============================] - 3s 154ms/step - loss: 6.1582e-04 - val_loss: 8.2923e-04\n",
      "Epoch 36/100\n",
      "20/20 [==============================] - 3s 153ms/step - loss: 6.0129e-04 - val_loss: 5.7113e-04\n",
      "Epoch 37/100\n",
      "20/20 [==============================] - 3s 153ms/step - loss: 6.1593e-04 - val_loss: 7.1745e-04\n",
      "Epoch 38/100\n",
      "20/20 [==============================] - 3s 172ms/step - loss: 6.3494e-04 - val_loss: 5.3999e-04\n",
      "Epoch 39/100\n",
      "20/20 [==============================] - 3s 150ms/step - loss: 8.4287e-04 - val_loss: 6.7746e-04\n",
      "Epoch 40/100\n",
      "20/20 [==============================] - 3s 153ms/step - loss: 6.0190e-04 - val_loss: 6.4956e-04\n",
      "Epoch 41/100\n",
      "20/20 [==============================] - 3s 151ms/step - loss: 5.8139e-04 - val_loss: 6.6648e-04\n",
      "Epoch 42/100\n",
      "20/20 [==============================] - 3s 150ms/step - loss: 6.4326e-04 - val_loss: 5.7918e-04\n",
      "Epoch 43/100\n",
      "20/20 [==============================] - 3s 153ms/step - loss: 5.8350e-04 - val_loss: 6.1043e-04\n",
      "Epoch 44/100\n",
      "20/20 [==============================] - 3s 149ms/step - loss: 5.4478e-04 - val_loss: 4.8116e-04\n",
      "Epoch 45/100\n",
      "20/20 [==============================] - 3s 151ms/step - loss: 5.8212e-04 - val_loss: 5.4636e-04\n",
      "Epoch 46/100\n",
      "20/20 [==============================] - 3s 150ms/step - loss: 5.1788e-04 - val_loss: 8.9813e-04\n",
      "Epoch 47/100\n",
      "20/20 [==============================] - 3s 149ms/step - loss: 7.5100e-04 - val_loss: 5.5888e-04\n",
      "Epoch 48/100\n",
      "20/20 [==============================] - 6s 320ms/step - loss: 6.0347e-04 - val_loss: 5.9691e-04\n",
      "Epoch 49/100\n",
      "20/20 [==============================] - 4s 187ms/step - loss: 5.0171e-04 - val_loss: 5.2565e-04\n",
      "Epoch 50/100\n",
      "20/20 [==============================] - 4s 225ms/step - loss: 5.6088e-04 - val_loss: 4.6841e-04\n",
      "Epoch 51/100\n",
      "20/20 [==============================] - 5s 257ms/step - loss: 4.8952e-04 - val_loss: 6.0300e-04\n",
      "Epoch 52/100\n",
      "20/20 [==============================] - 5s 238ms/step - loss: 4.8135e-04 - val_loss: 4.8365e-04\n",
      "Epoch 53/100\n",
      "20/20 [==============================] - 5s 244ms/step - loss: 5.1236e-04 - val_loss: 4.5849e-04\n",
      "Epoch 54/100\n",
      "20/20 [==============================] - 3s 154ms/step - loss: 4.6750e-04 - val_loss: 5.7039e-04\n",
      "Epoch 55/100\n",
      "20/20 [==============================] - 3s 150ms/step - loss: 4.9610e-04 - val_loss: 4.2791e-04\n",
      "Epoch 56/100\n",
      "20/20 [==============================] - 3s 153ms/step - loss: 4.4593e-04 - val_loss: 4.9874e-04\n",
      "Epoch 57/100\n",
      "20/20 [==============================] - 3s 147ms/step - loss: 4.8622e-04 - val_loss: 5.8320e-04\n",
      "Epoch 58/100\n",
      "20/20 [==============================] - 3s 150ms/step - loss: 4.7957e-04 - val_loss: 4.8605e-04\n",
      "Epoch 59/100\n",
      "20/20 [==============================] - 3s 147ms/step - loss: 4.3604e-04 - val_loss: 6.1053e-04\n",
      "Epoch 60/100\n",
      "20/20 [==============================] - 3s 150ms/step - loss: 4.3547e-04 - val_loss: 4.2203e-04\n",
      "Epoch 61/100\n",
      "20/20 [==============================] - 3s 148ms/step - loss: 4.2187e-04 - val_loss: 3.5046e-04\n",
      "Epoch 62/100\n",
      "20/20 [==============================] - 3s 146ms/step - loss: 4.8013e-04 - val_loss: 3.6116e-04\n",
      "Epoch 63/100\n",
      "20/20 [==============================] - 3s 150ms/step - loss: 4.1789e-04 - val_loss: 3.5615e-04\n",
      "Epoch 64/100\n",
      "20/20 [==============================] - 3s 146ms/step - loss: 4.5528e-04 - val_loss: 3.7474e-04\n",
      "Epoch 65/100\n",
      "20/20 [==============================] - 3s 150ms/step - loss: 4.4260e-04 - val_loss: 6.2825e-04\n",
      "Epoch 66/100\n",
      "20/20 [==============================] - 3s 165ms/step - loss: 5.7627e-04 - val_loss: 4.3675e-04\n",
      "Epoch 67/100\n",
      "20/20 [==============================] - 3s 151ms/step - loss: 3.9735e-04 - val_loss: 4.2223e-04\n",
      "Epoch 68/100\n",
      "20/20 [==============================] - 3s 150ms/step - loss: 3.9009e-04 - val_loss: 3.8673e-04\n",
      "Epoch 69/100\n",
      "20/20 [==============================] - 3s 149ms/step - loss: 4.0754e-04 - val_loss: 4.5732e-04\n",
      "Epoch 70/100\n",
      "20/20 [==============================] - 3s 151ms/step - loss: 3.7804e-04 - val_loss: 4.0882e-04\n",
      "Epoch 71/100\n",
      "20/20 [==============================] - 3s 150ms/step - loss: 3.7397e-04 - val_loss: 3.0662e-04\n",
      "Epoch 72/100\n",
      "20/20 [==============================] - 3s 174ms/step - loss: 3.7054e-04 - val_loss: 2.9490e-04\n",
      "Epoch 73/100\n",
      "20/20 [==============================] - 3s 152ms/step - loss: 4.0094e-04 - val_loss: 3.9851e-04\n",
      "Epoch 74/100\n",
      "20/20 [==============================] - 3s 149ms/step - loss: 4.2532e-04 - val_loss: 3.9959e-04\n",
      "Epoch 75/100\n",
      "20/20 [==============================] - 3s 156ms/step - loss: 3.9095e-04 - val_loss: 2.7090e-04\n",
      "Epoch 76/100\n",
      "20/20 [==============================] - 3s 162ms/step - loss: 3.3503e-04 - val_loss: 2.7177e-04\n",
      "Epoch 77/100\n",
      "20/20 [==============================] - 3s 150ms/step - loss: 3.1077e-04 - val_loss: 3.4056e-04\n",
      "Epoch 78/100\n",
      "20/20 [==============================] - 3s 152ms/step - loss: 3.2780e-04 - val_loss: 4.2260e-04\n",
      "Epoch 79/100\n",
      "20/20 [==============================] - 3s 150ms/step - loss: 4.2575e-04 - val_loss: 2.5985e-04\n",
      "Epoch 80/100\n",
      "20/20 [==============================] - 3s 151ms/step - loss: 2.9481e-04 - val_loss: 3.3307e-04\n",
      "Epoch 81/100\n",
      "20/20 [==============================] - 3s 171ms/step - loss: 2.9819e-04 - val_loss: 2.9300e-04\n",
      "Epoch 82/100\n",
      "20/20 [==============================] - 3s 149ms/step - loss: 3.2812e-04 - val_loss: 2.7099e-04\n",
      "Epoch 83/100\n",
      "20/20 [==============================] - 3s 151ms/step - loss: 2.8021e-04 - val_loss: 2.5878e-04\n",
      "Epoch 84/100\n",
      "20/20 [==============================] - 3s 174ms/step - loss: 2.7921e-04 - val_loss: 2.7916e-04\n",
      "Epoch 85/100\n",
      "20/20 [==============================] - 3s 148ms/step - loss: 2.8272e-04 - val_loss: 2.3359e-04\n",
      "Epoch 86/100\n",
      "20/20 [==============================] - 3s 147ms/step - loss: 2.8669e-04 - val_loss: 2.6392e-04\n",
      "Epoch 87/100\n",
      "20/20 [==============================] - 3s 155ms/step - loss: 3.0464e-04 - val_loss: 2.5400e-04\n",
      "Epoch 88/100\n",
      "20/20 [==============================] - 3s 160ms/step - loss: 2.7375e-04 - val_loss: 2.7352e-04\n",
      "Epoch 89/100\n",
      "20/20 [==============================] - 3s 146ms/step - loss: 2.7463e-04 - val_loss: 2.4153e-04\n",
      "Epoch 90/100\n",
      "20/20 [==============================] - 3s 147ms/step - loss: 2.5505e-04 - val_loss: 2.9126e-04\n",
      "Epoch 91/100\n",
      "20/20 [==============================] - 3s 149ms/step - loss: 2.6786e-04 - val_loss: 2.3380e-04\n",
      "Epoch 92/100\n",
      "20/20 [==============================] - 3s 173ms/step - loss: 2.5613e-04 - val_loss: 2.3730e-04\n",
      "Epoch 93/100\n",
      "20/20 [==============================] - 3s 151ms/step - loss: 2.6241e-04 - val_loss: 2.1034e-04\n",
      "Epoch 94/100\n",
      "20/20 [==============================] - 3s 151ms/step - loss: 2.7873e-04 - val_loss: 2.2797e-04\n",
      "Epoch 95/100\n",
      "20/20 [==============================] - 3s 151ms/step - loss: 2.4510e-04 - val_loss: 2.5432e-04\n",
      "Epoch 96/100\n",
      "20/20 [==============================] - 3s 149ms/step - loss: 2.4355e-04 - val_loss: 2.6398e-04\n",
      "Epoch 97/100\n",
      "20/20 [==============================] - 3s 150ms/step - loss: 2.5575e-04 - val_loss: 3.2073e-04\n",
      "Epoch 98/100\n",
      "20/20 [==============================] - 3s 154ms/step - loss: 2.3285e-04 - val_loss: 2.3545e-04\n",
      "Epoch 99/100\n",
      "20/20 [==============================] - 3s 155ms/step - loss: 2.3024e-04 - val_loss: 2.3676e-04\n",
      "Epoch 100/100\n",
      "20/20 [==============================] - 3s 150ms/step - loss: 2.6280e-04 - val_loss: 3.5702e-04\n"
     ]
    },
    {
     "data": {
      "text/plain": [
       "<keras.callbacks.History at 0x7fa7730efa90>"
      ]
     },
     "execution_count": 15,
     "metadata": {},
     "output_type": "execute_result"
    }
   ],
   "source": [
    "# Fitting Model on 100 Epochs\n",
    "model.fit(X_train, y_train, validation_data = (X_test, ytest), epochs = 100, batch_size=64, verbose=1)"
   ]
  },
  {
   "cell_type": "code",
   "execution_count": 16,
   "id": "a9d4502b-2fc4-4d4a-9706-cff629d90d1c",
   "metadata": {},
   "outputs": [],
   "source": [
    "### Lets Do the prediction and check performance metrics\n",
    "train_predict = model.predict(X_train)\n",
    "test_predict = model.predict(X_test)"
   ]
  },
  {
   "cell_type": "code",
   "execution_count": 17,
   "id": "b1339918-9295-40c0-93c7-4192b9578bdc",
   "metadata": {},
   "outputs": [],
   "source": [
    "#Transformback to original form\n",
    "train_predict=scaler.inverse_transform(train_predict)\n",
    "test_predict=scaler.inverse_transform(test_predict)"
   ]
  },
  {
   "cell_type": "code",
   "execution_count": 18,
   "id": "6a977840-dfb7-49e5-957a-a35af713e4dc",
   "metadata": {},
   "outputs": [
    {
     "data": {
      "text/plain": [
       "169.84392319833583"
      ]
     },
     "execution_count": 18,
     "metadata": {},
     "output_type": "execute_result"
    }
   ],
   "source": [
    "### Calculate RMSE performance metrics\n",
    "import math\n",
    "from sklearn.metrics import mean_squared_error\n",
    "math.sqrt(mean_squared_error(y_train,train_predict))"
   ]
  },
  {
   "cell_type": "code",
   "execution_count": 19,
   "id": "e788cb48-a63f-4bca-8c07-ecd89ec55754",
   "metadata": {},
   "outputs": [
    {
     "data": {
      "text/plain": [
       "118.01901080462837"
      ]
     },
     "execution_count": 19,
     "metadata": {},
     "output_type": "execute_result"
    }
   ],
   "source": [
    "### Test Data RMSE\n",
    "math.sqrt(mean_squared_error(ytest,test_predict))"
   ]
  },
  {
   "cell_type": "code",
   "execution_count": 20,
   "id": "c09ac1af-863f-4c70-ad00-5e3cdc04afcc",
   "metadata": {},
   "outputs": [
    {
     "data": {
      "image/png": "[encoded data removed]",
      "text/plain": [
       "<Figure size 432x288 with 1 Axes>"
      ]
     },
     "metadata": {
      "needs_background": "light"
     },
     "output_type": "display_data"
    }
   ],
   "source": [
    "### Plotting \n",
    "# shift train predictions for plotting\n",
    "look_back=100\n",
    "trainPredictPlot = np.empty_like(df)\n",
    "trainPredictPlot[:, :] = np.nan\n",
    "trainPredictPlot[look_back:len(train_predict)+look_back, :] = train_predict\n",
    "# shift test predictions for plotting\n",
    "testPredictPlot = np.empty_like(df)\n",
    "testPredictPlot[:, :] = np.nan\n",
    "testPredictPlot[len(train_predict)+(look_back*2)+1:len(df)-1, :] = test_predict\n",
    "# plot baseline and predictions\n",
    "plt.plot(scaler.inverse_transform(df))\n",
    "plt.plot(trainPredictPlot)\n",
    "plt.plot(testPredictPlot)\n",
    "plt.show()"
   ]
  },
  {
   "cell_type": "code",
   "execution_count": 21,
   "id": "68ecd258-430f-4696-824b-f6fd8683b7de",
   "metadata": {},
   "outputs": [
    {
     "data": {
      "text/plain": [
       "(1, 372)"
      ]
     },
     "execution_count": 21,
     "metadata": {},
     "output_type": "execute_result"
    }
   ],
   "source": [
    "x_input=test_data[341:].reshape(1,-1)\n",
    "x_input.shape"
   ]
  },
  {
   "cell_type": "code",
   "execution_count": 22,
   "id": "947ac968-472d-40d1-afe1-7914632024b5",
   "metadata": {},
   "outputs": [],
   "source": [
    "temp_input=list(x_input)\n",
    "temp_input=temp_input[0].tolist()"
   ]
  },
  {
   "cell_type": "code",
   "execution_count": 23,
   "id": "6b9b7de7-923e-46b6-82a0-cc49f659160b",
   "metadata": {},
   "outputs": [
    {
     "name": "stdout",
     "output_type": "stream",
     "text": [
      "0 day input [0.04881536 0.05310458 0.04963235 0.05065359 0.05126634 0.04963235\n",
      " 0.05902778 0.05555556 0.04084967 0.03737745 0.03737745 0.02655229\n",
      " 0.02879902 0.0316585  0.0316585  0.03635621 0.02205882 0.01674837\n",
      " 0.01450163 0.02226307 0.03615196 0.02675654 0.03206699 0.02696078\n",
      " 0.03574346 0.03594771 0.04044118 0.03921569 0.04411765 0.02982026\n",
      " 0.0122549  0.01286765 0.01143791 0.00245098 0.0059232  0.\n",
      " 0.00714869 0.00428922 0.0067402  0.0063317  0.01123366 0.01960784\n",
      " 0.02757353 0.03002451 0.03349673 0.04003268 0.04084967 0.03982843\n",
      " 0.04166667 0.04370915 0.04758987 0.03594771 0.02839052 0.02410131\n",
      " 0.01715686 0.01531863 0.01756536 0.02696078 0.02696078 0.03819444\n",
      " 0.02839052 0.02369281 0.02920752 0.02328431 0.01919935 0.00653595\n",
      " 0.00061275 0.00796569 0.01245915 0.01981209 0.01940359 0.02246732\n",
      " 0.03125    0.02348856 0.0249183  0.02144608 0.04840686 0.04575163\n",
      " 0.03962418 0.03921569 0.04758987 0.04513889 0.04166667 0.04125817\n",
      " 0.05044935 0.05555556 0.05494281 0.05412582 0.0435049  0.04799837\n",
      " 0.05147059 0.05065359 0.03431373 0.04575163 0.04187092 0.04554739\n",
      " 0.03941993 0.02716503 0.03125    0.05882353 0.07148693 0.08721405\n",
      " 0.08986928 0.10498366 0.08905229 0.10355392 0.10375817 0.12275327\n",
      " 0.10906863 0.09660948 0.1064134  0.10457516 0.11049837 0.1127451\n",
      " 0.09803922 0.09987745 0.08925654 0.0747549  0.08169935 0.08925654\n",
      " 0.09068627 0.08129085 0.08823529 0.08455882 0.07945261 0.08374183\n",
      " 0.07781863 0.09824346 0.09089052 0.09007353 0.09558824 0.06862745\n",
      " 0.06372549 0.0494281  0.04799837 0.04534314 0.0443219  0.03941993\n",
      " 0.0379902  0.04656863 0.05085784 0.07209967 0.06535948 0.07230392\n",
      " 0.07802288 0.07741013 0.06086601 0.06413399 0.07046569 0.05412582\n",
      " 0.0498366  0.05167484 0.05330882 0.0435049  0.02634804 0.02410131\n",
      " 0.02961601 0.01960784 0.02961601 0.04575163 0.05923203 0.06678922\n",
      " 0.06229575 0.06311275 0.0629085  0.06658497 0.07434641 0.06944444\n",
      " 0.08088235 0.07700163 0.0684232  0.06781046 0.0629085  0.0692402\n",
      " 0.0755719  0.07781863 0.08088235 0.08843954 0.09395425 0.09599673\n",
      " 0.08660131 0.09027778 0.08517157 0.08374183 0.07945261 0.09109477\n",
      " 0.09129902 0.08803105 0.09681373 0.11417484 0.10498366 0.09987745\n",
      " 0.08537582 0.08047386 0.06862745 0.06576797 0.06147876 0.07169118\n",
      " 0.07026144 0.0747549  0.06821895 0.0692402  0.07066993 0.06801471\n",
      " 0.06678922 0.07414216 0.07169118 0.08639706 0.08312908 0.06311275\n",
      " 0.0629085  0.05167484 0.03186275 0.04003268 0.03860294 0.04105392\n",
      " 0.03390523 0.03125    0.02634804 0.05861928 0.06311275 0.0620915\n",
      " 0.05535131 0.08455882 0.05514706 0.06045752 0.0557598  0.0439134\n",
      " 0.02920752 0.02818627 0.04718137 0.06045752 0.05861928 0.06168301\n",
      " 0.06699346 0.07087418 0.0755719  0.07700163 0.10375817 0.10314542\n",
      " 0.10334967 0.10089869 0.10437092 0.09803922 0.09722222 0.09783497\n",
      " 0.09579248 0.09109477 0.09313725 0.08558007 0.09517974 0.11172386\n",
      " 0.12275327 0.12806373 0.1313317  0.12479575 0.11090686 0.10743464\n",
      " 0.11621732 0.11683007 0.11764706 0.12888072 0.12847222 0.13337418\n",
      " 0.14236111 0.14093137 0.13970588 0.13827614 0.13541667 0.13010621\n",
      " 0.12254902 0.12479575 0.13848039 0.14011438 0.13888889 0.13541667\n",
      " 0.14011438 0.1380719  0.13071895 0.13071895 0.12867647 0.11846405\n",
      " 0.14644608 0.14808007 0.15910948 0.15992647 0.15788399 0.16441993\n",
      " 0.17892157 0.17933007 0.19260621 0.20812908 0.18974673 0.18055556\n",
      " 0.18239379 0.17708333 0.17810458 0.18055556 0.17810458 0.17851307\n",
      " 0.19607843 0.18913399 0.18954248 0.19403595 0.19444444 0.20200163\n",
      " 0.19771242 0.19934641 0.19873366 0.1997549  0.2128268  0.21568627\n",
      " 0.20445261 0.21772876 0.21098856 0.21425654 0.19750817 0.18811275\n",
      " 0.17851307 0.17381536 0.16033497 0.16564542 0.17116013 0.17422386\n",
      " 0.18035131 0.17401961 0.16278595 0.16973039 0.17810458 0.17034314\n",
      " 0.16830065 0.17279412 0.17544935 0.18382353 0.19138072 0.18913399\n",
      " 0.19097222 0.17238562 0.16830065 0.1693219  0.17177288 0.16156046\n",
      " 0.14971405 0.1503268  0.15196078 0.14726307 0.14501634 0.14603758\n",
      " 0.12479575 0.13112745 0.11397059 0.1190768  0.12377451 0.13562092\n",
      " 0.12908497 0.13459967 0.12806373 0.13031046 0.12724673 0.13521242\n",
      " 0.14522059 0.15257353 0.14848856 0.14338235 0.14562908 0.15236928\n",
      " 0.15400327 0.14971405 0.1621732  0.16319444 0.16584967]\n"
     ]
    },
    {
     "ename": "ValueError",
     "evalue": "cannot reshape array of size 371 into shape (1,100,1)",
     "output_type": "error",
     "traceback": [
      "\u001b[0;31m---------------------------------------------------------------------------\u001b[0m",
      "\u001b[0;31mValueError\u001b[0m                                Traceback (most recent call last)",
      "\u001b[0;32m/var/folders/8j/xlrqn7dn1rsdndnrmvgzz0k40000gq/T/ipykernel_6818/3212927656.py\u001b[0m in \u001b[0;36m<module>\u001b[0;34m\u001b[0m\n\u001b[1;32m     12\u001b[0m         \u001b[0mprint\u001b[0m\u001b[0;34m(\u001b[0m\u001b[0;34m\"{} day input {}\"\u001b[0m\u001b[0;34m.\u001b[0m\u001b[0mformat\u001b[0m\u001b[0;34m(\u001b[0m\u001b[0mi\u001b[0m\u001b[0;34m,\u001b[0m\u001b[0mx_input\u001b[0m\u001b[0;34m)\u001b[0m\u001b[0;34m)\u001b[0m\u001b[0;34m\u001b[0m\u001b[0;34m\u001b[0m\u001b[0m\n\u001b[1;32m     13\u001b[0m         \u001b[0mx_input\u001b[0m\u001b[0;34m=\u001b[0m\u001b[0mx_input\u001b[0m\u001b[0;34m.\u001b[0m\u001b[0mreshape\u001b[0m\u001b[0;34m(\u001b[0m\u001b[0;36m1\u001b[0m\u001b[0;34m,\u001b[0m\u001b[0;34m-\u001b[0m\u001b[0;36m1\u001b[0m\u001b[0;34m)\u001b[0m\u001b[0;34m\u001b[0m\u001b[0;34m\u001b[0m\u001b[0m\n\u001b[0;32m---> 14\u001b[0;31m         \u001b[0mx_input\u001b[0m \u001b[0;34m=\u001b[0m \u001b[0mx_input\u001b[0m\u001b[0;34m.\u001b[0m\u001b[0mreshape\u001b[0m\u001b[0;34m(\u001b[0m\u001b[0;34m(\u001b[0m\u001b[0;36m1\u001b[0m\u001b[0;34m,\u001b[0m \u001b[0mn_steps\u001b[0m\u001b[0;34m,\u001b[0m \u001b[0;36m1\u001b[0m\u001b[0;34m)\u001b[0m\u001b[0;34m)\u001b[0m\u001b[0;34m\u001b[0m\u001b[0;34m\u001b[0m\u001b[0m\n\u001b[0m\u001b[1;32m     15\u001b[0m         \u001b[0;31m#print(x_input)\u001b[0m\u001b[0;34m\u001b[0m\u001b[0;34m\u001b[0m\u001b[0;34m\u001b[0m\u001b[0m\n\u001b[1;32m     16\u001b[0m         \u001b[0myhat\u001b[0m \u001b[0;34m=\u001b[0m \u001b[0mmodel\u001b[0m\u001b[0;34m.\u001b[0m\u001b[0mpredict\u001b[0m\u001b[0;34m(\u001b[0m\u001b[0mx_input\u001b[0m\u001b[0;34m,\u001b[0m \u001b[0mverbose\u001b[0m\u001b[0;34m=\u001b[0m\u001b[0;36m0\u001b[0m\u001b[0;34m)\u001b[0m\u001b[0;34m\u001b[0m\u001b[0;34m\u001b[0m\u001b[0m\n",
      "\u001b[0;31mValueError\u001b[0m: cannot reshape array of size 371 into shape (1,100,1)"
     ]
    }
   ],
   "source": [
    "# demonstrate prediction for next 10 days\n",
    "from numpy import array\n",
    "\n",
    "lst_output = []\n",
    "n_steps = 100\n",
    "i = 0\n",
    "while(i<30):\n",
    "    \n",
    "    if(len(temp_input)>100):\n",
    "        #print(temp_input)\n",
    "        x_input=np.array(temp_input[1:])\n",
    "        print(\"{} day input {}\".format(i,x_input))\n",
    "        x_input=x_input.reshape(1,-1)\n",
    "        x_input = x_input.reshape((1, n_steps, 1))\n",
    "        #print(x_input)\n",
    "        yhat = model.predict(x_input, verbose=0)\n",
    "        print(\"{} day output {}\".format(i,yhat))\n",
    "        temp_input.extend(yhat[0].tolist())\n",
    "        temp_input=temp_input[1:]\n",
    "        #print(temp_input)\n",
    "        lst_output.extend(yhat.tolist())\n",
    "        i=i+1\n",
    "    else:\n",
    "        x_input = x_input.reshape((1, n_steps,1))\n",
    "        yhat = model.predict(x_input, verbose=0)\n",
    "        print(yhat[0])\n",
    "        temp_input.extend(yhat[0].tolist())\n",
    "        print(len(temp_input))\n",
    "        lst_output.extend(yhat.tolist())\n",
    "        i=i+1\n",
    "    \n",
    "\n",
    "print(lst_output)"
   ]
  },
  {
   "cell_type": "code",
   "execution_count": 24,
   "id": "ebcb0868-0459-4c85-9885-7e6e5125898d",
   "metadata": {},
   "outputs": [],
   "source": [
    "day_new=np.arange(1,101)\n",
    "day_pred=np.arange(101,131)"
   ]
  },
  {
   "cell_type": "code",
   "execution_count": 25,
   "id": "acdb3da1-2399-4b5f-aa8a-8627c3ac25c9",
   "metadata": {},
   "outputs": [
    {
     "ename": "ValueError",
     "evalue": "x and y must have same first dimension, but have shapes (100,) and (877, 1)",
     "output_type": "error",
     "traceback": [
      "\u001b[0;31m---------------------------------------------------------------------------\u001b[0m",
      "\u001b[0;31mValueError\u001b[0m                                Traceback (most recent call last)",
      "\u001b[0;32m/var/folders/8j/xlrqn7dn1rsdndnrmvgzz0k40000gq/T/ipykernel_6818/3865043453.py\u001b[0m in \u001b[0;36m<module>\u001b[0;34m\u001b[0m\n\u001b[0;32m----> 1\u001b[0;31m \u001b[0mplt\u001b[0m\u001b[0;34m.\u001b[0m\u001b[0mplot\u001b[0m\u001b[0;34m(\u001b[0m\u001b[0mday_new\u001b[0m\u001b[0;34m,\u001b[0m\u001b[0mscaler\u001b[0m\u001b[0;34m.\u001b[0m\u001b[0minverse_transform\u001b[0m\u001b[0;34m(\u001b[0m\u001b[0mdf\u001b[0m\u001b[0;34m[\u001b[0m\u001b[0;36m1158\u001b[0m\u001b[0;34m:\u001b[0m\u001b[0;34m]\u001b[0m\u001b[0;34m)\u001b[0m\u001b[0;34m)\u001b[0m\u001b[0;34m\u001b[0m\u001b[0;34m\u001b[0m\u001b[0m\n\u001b[0m\u001b[1;32m      2\u001b[0m \u001b[0mplt\u001b[0m\u001b[0;34m.\u001b[0m\u001b[0mplot\u001b[0m\u001b[0;34m(\u001b[0m\u001b[0mday_pred\u001b[0m\u001b[0;34m,\u001b[0m\u001b[0mscaler\u001b[0m\u001b[0;34m.\u001b[0m\u001b[0minverse_transform\u001b[0m\u001b[0;34m(\u001b[0m\u001b[0mlst_output\u001b[0m\u001b[0;34m)\u001b[0m\u001b[0;34m)\u001b[0m\u001b[0;34m\u001b[0m\u001b[0;34m\u001b[0m\u001b[0m\n",
      "\u001b[0;32m~/opt/anaconda3/lib/python3.8/site-packages/matplotlib/pyplot.py\u001b[0m in \u001b[0;36mplot\u001b[0;34m(scalex, scaley, data, *args, **kwargs)\u001b[0m\n\u001b[1;32m   2838\u001b[0m \u001b[0;34m@\u001b[0m\u001b[0m_copy_docstring_and_deprecators\u001b[0m\u001b[0;34m(\u001b[0m\u001b[0mAxes\u001b[0m\u001b[0;34m.\u001b[0m\u001b[0mplot\u001b[0m\u001b[0;34m)\u001b[0m\u001b[0;34m\u001b[0m\u001b[0;34m\u001b[0m\u001b[0m\n\u001b[1;32m   2839\u001b[0m \u001b[0;32mdef\u001b[0m \u001b[0mplot\u001b[0m\u001b[0;34m(\u001b[0m\u001b[0;34m*\u001b[0m\u001b[0margs\u001b[0m\u001b[0;34m,\u001b[0m \u001b[0mscalex\u001b[0m\u001b[0;34m=\u001b[0m\u001b[0;32mTrue\u001b[0m\u001b[0;34m,\u001b[0m \u001b[0mscaley\u001b[0m\u001b[0;34m=\u001b[0m\u001b[0;32mTrue\u001b[0m\u001b[0;34m,\u001b[0m \u001b[0mdata\u001b[0m\u001b[0;34m=\u001b[0m\u001b[0;32mNone\u001b[0m\u001b[0;34m,\u001b[0m \u001b[0;34m**\u001b[0m\u001b[0mkwargs\u001b[0m\u001b[0;34m)\u001b[0m\u001b[0;34m:\u001b[0m\u001b[0;34m\u001b[0m\u001b[0;34m\u001b[0m\u001b[0m\n\u001b[0;32m-> 2840\u001b[0;31m     return gca().plot(\n\u001b[0m\u001b[1;32m   2841\u001b[0m         \u001b[0;34m*\u001b[0m\u001b[0margs\u001b[0m\u001b[0;34m,\u001b[0m \u001b[0mscalex\u001b[0m\u001b[0;34m=\u001b[0m\u001b[0mscalex\u001b[0m\u001b[0;34m,\u001b[0m \u001b[0mscaley\u001b[0m\u001b[0;34m=\u001b[0m\u001b[0mscaley\u001b[0m\u001b[0;34m,\u001b[0m\u001b[0;34m\u001b[0m\u001b[0;34m\u001b[0m\u001b[0m\n\u001b[1;32m   2842\u001b[0m         **({\"data\": data} if data is not None else {}), **kwargs)\n",
      "\u001b[0;32m~/opt/anaconda3/lib/python3.8/site-packages/matplotlib/axes/_axes.py\u001b[0m in \u001b[0;36mplot\u001b[0;34m(self, scalex, scaley, data, *args, **kwargs)\u001b[0m\n\u001b[1;32m   1741\u001b[0m         \"\"\"\n\u001b[1;32m   1742\u001b[0m         \u001b[0mkwargs\u001b[0m \u001b[0;34m=\u001b[0m \u001b[0mcbook\u001b[0m\u001b[0;34m.\u001b[0m\u001b[0mnormalize_kwargs\u001b[0m\u001b[0;34m(\u001b[0m\u001b[0mkwargs\u001b[0m\u001b[0;34m,\u001b[0m \u001b[0mmlines\u001b[0m\u001b[0;34m.\u001b[0m\u001b[0mLine2D\u001b[0m\u001b[0;34m)\u001b[0m\u001b[0;34m\u001b[0m\u001b[0;34m\u001b[0m\u001b[0m\n\u001b[0;32m-> 1743\u001b[0;31m         \u001b[0mlines\u001b[0m \u001b[0;34m=\u001b[0m \u001b[0;34m[\u001b[0m\u001b[0;34m*\u001b[0m\u001b[0mself\u001b[0m\u001b[0;34m.\u001b[0m\u001b[0m_get_lines\u001b[0m\u001b[0;34m(\u001b[0m\u001b[0;34m*\u001b[0m\u001b[0margs\u001b[0m\u001b[0;34m,\u001b[0m \u001b[0mdata\u001b[0m\u001b[0;34m=\u001b[0m\u001b[0mdata\u001b[0m\u001b[0;34m,\u001b[0m \u001b[0;34m**\u001b[0m\u001b[0mkwargs\u001b[0m\u001b[0;34m)\u001b[0m\u001b[0;34m]\u001b[0m\u001b[0;34m\u001b[0m\u001b[0;34m\u001b[0m\u001b[0m\n\u001b[0m\u001b[1;32m   1744\u001b[0m         \u001b[0;32mfor\u001b[0m \u001b[0mline\u001b[0m \u001b[0;32min\u001b[0m \u001b[0mlines\u001b[0m\u001b[0;34m:\u001b[0m\u001b[0;34m\u001b[0m\u001b[0;34m\u001b[0m\u001b[0m\n\u001b[1;32m   1745\u001b[0m             \u001b[0mself\u001b[0m\u001b[0;34m.\u001b[0m\u001b[0madd_line\u001b[0m\u001b[0;34m(\u001b[0m\u001b[0mline\u001b[0m\u001b[0;34m)\u001b[0m\u001b[0;34m\u001b[0m\u001b[0;34m\u001b[0m\u001b[0m\n",
      "\u001b[0;32m~/opt/anaconda3/lib/python3.8/site-packages/matplotlib/axes/_base.py\u001b[0m in \u001b[0;36m__call__\u001b[0;34m(self, data, *args, **kwargs)\u001b[0m\n\u001b[1;32m    271\u001b[0m                 \u001b[0mthis\u001b[0m \u001b[0;34m+=\u001b[0m \u001b[0margs\u001b[0m\u001b[0;34m[\u001b[0m\u001b[0;36m0\u001b[0m\u001b[0;34m]\u001b[0m\u001b[0;34m,\u001b[0m\u001b[0;34m\u001b[0m\u001b[0;34m\u001b[0m\u001b[0m\n\u001b[1;32m    272\u001b[0m                 \u001b[0margs\u001b[0m \u001b[0;34m=\u001b[0m \u001b[0margs\u001b[0m\u001b[0;34m[\u001b[0m\u001b[0;36m1\u001b[0m\u001b[0;34m:\u001b[0m\u001b[0;34m]\u001b[0m\u001b[0;34m\u001b[0m\u001b[0;34m\u001b[0m\u001b[0m\n\u001b[0;32m--> 273\u001b[0;31m             \u001b[0;32myield\u001b[0m \u001b[0;32mfrom\u001b[0m \u001b[0mself\u001b[0m\u001b[0;34m.\u001b[0m\u001b[0m_plot_args\u001b[0m\u001b[0;34m(\u001b[0m\u001b[0mthis\u001b[0m\u001b[0;34m,\u001b[0m \u001b[0mkwargs\u001b[0m\u001b[0;34m)\u001b[0m\u001b[0;34m\u001b[0m\u001b[0;34m\u001b[0m\u001b[0m\n\u001b[0m\u001b[1;32m    274\u001b[0m \u001b[0;34m\u001b[0m\u001b[0m\n\u001b[1;32m    275\u001b[0m     \u001b[0;32mdef\u001b[0m \u001b[0mget_next_color\u001b[0m\u001b[0;34m(\u001b[0m\u001b[0mself\u001b[0m\u001b[0;34m)\u001b[0m\u001b[0;34m:\u001b[0m\u001b[0;34m\u001b[0m\u001b[0;34m\u001b[0m\u001b[0m\n",
      "\u001b[0;32m~/opt/anaconda3/lib/python3.8/site-packages/matplotlib/axes/_base.py\u001b[0m in \u001b[0;36m_plot_args\u001b[0;34m(self, tup, kwargs)\u001b[0m\n\u001b[1;32m    397\u001b[0m \u001b[0;34m\u001b[0m\u001b[0m\n\u001b[1;32m    398\u001b[0m         \u001b[0;32mif\u001b[0m \u001b[0mx\u001b[0m\u001b[0;34m.\u001b[0m\u001b[0mshape\u001b[0m\u001b[0;34m[\u001b[0m\u001b[0;36m0\u001b[0m\u001b[0;34m]\u001b[0m \u001b[0;34m!=\u001b[0m \u001b[0my\u001b[0m\u001b[0;34m.\u001b[0m\u001b[0mshape\u001b[0m\u001b[0;34m[\u001b[0m\u001b[0;36m0\u001b[0m\u001b[0;34m]\u001b[0m\u001b[0;34m:\u001b[0m\u001b[0;34m\u001b[0m\u001b[0;34m\u001b[0m\u001b[0m\n\u001b[0;32m--> 399\u001b[0;31m             raise ValueError(f\"x and y must have same first dimension, but \"\n\u001b[0m\u001b[1;32m    400\u001b[0m                              f\"have shapes {x.shape} and {y.shape}\")\n\u001b[1;32m    401\u001b[0m         \u001b[0;32mif\u001b[0m \u001b[0mx\u001b[0m\u001b[0;34m.\u001b[0m\u001b[0mndim\u001b[0m \u001b[0;34m>\u001b[0m \u001b[0;36m2\u001b[0m \u001b[0;32mor\u001b[0m \u001b[0my\u001b[0m\u001b[0;34m.\u001b[0m\u001b[0mndim\u001b[0m \u001b[0;34m>\u001b[0m \u001b[0;36m2\u001b[0m\u001b[0;34m:\u001b[0m\u001b[0;34m\u001b[0m\u001b[0;34m\u001b[0m\u001b[0m\n",
      "\u001b[0;31mValueError\u001b[0m: x and y must have same first dimension, but have shapes (100,) and (877, 1)"
     ]
    },
    {
     "data": {
      "image/png": "[encoded data removed]",
      "text/plain": [
       "<Figure size 432x288 with 1 Axes>"
      ]
     },
     "metadata": {
      "needs_background": "light"
     },
     "output_type": "display_data"
    }
   ],
   "source": [
    "plt.plot(day_new,scaler.inverse_transform(df[1158:]))\n",
    "plt.plot(day_pred,scaler.inverse_transform(lst_output))"
   ]
  },
  {
   "cell_type": "code",
   "execution_count": 28,
   "id": "ec9eb3cb-8214-4801-a724-25bf609f0c0c",
   "metadata": {},
   "outputs": [
    {
     "data": {
      "text/plain": [
       "[<matplotlib.lines.Line2D at 0x7fa75a444b80>]"
      ]
     },
     "execution_count": 28,
     "metadata": {},
     "output_type": "execute_result"
    },
    {
     "data": {
      "image/png": "[encoded data removed]",
      "text/plain": [
       "<Figure size 432x288 with 1 Axes>"
      ]
     },
     "metadata": {
      "needs_background": "light"
     },
     "output_type": "display_data"
    }
   ],
   "source": [
    "df3=df.tolist()\n",
    "df3.extend(lst_output)\n",
    "plt.plot(df3[1200:])"
   ]
  },
  {
   "cell_type": "code",
   "execution_count": 27,
   "id": "8abe0ead-4fa1-4266-8e72-3f5226e23254",
   "metadata": {},
   "outputs": [
    {
     "ename": "NameError",
     "evalue": "name 'df3' is not defined",
     "output_type": "error",
     "traceback": [
      "\u001b[0;31m---------------------------------------------------------------------------\u001b[0m",
      "\u001b[0;31mNameError\u001b[0m                                 Traceback (most recent call last)",
      "\u001b[0;32m/var/folders/8j/xlrqn7dn1rsdndnrmvgzz0k40000gq/T/ipykernel_6818/1249264223.py\u001b[0m in \u001b[0;36m<module>\u001b[0;34m\u001b[0m\n\u001b[0;32m----> 1\u001b[0;31m \u001b[0mdf3\u001b[0m\u001b[0;34m=\u001b[0m\u001b[0mscaler\u001b[0m\u001b[0;34m.\u001b[0m\u001b[0minverse_transform\u001b[0m\u001b[0;34m(\u001b[0m\u001b[0mdf3\u001b[0m\u001b[0;34m)\u001b[0m\u001b[0;34m.\u001b[0m\u001b[0mtolist\u001b[0m\u001b[0;34m(\u001b[0m\u001b[0;34m)\u001b[0m\u001b[0;34m\u001b[0m\u001b[0;34m\u001b[0m\u001b[0m\n\u001b[0m\u001b[1;32m      2\u001b[0m \u001b[0mplt\u001b[0m\u001b[0;34m.\u001b[0m\u001b[0mplot\u001b[0m\u001b[0;34m(\u001b[0m\u001b[0mdf3\u001b[0m\u001b[0;34m)\u001b[0m\u001b[0;34m\u001b[0m\u001b[0;34m\u001b[0m\u001b[0m\n",
      "\u001b[0;31mNameError\u001b[0m: name 'df3' is not defined"
     ]
    }
   ],
   "source": [
    "df3=scaler.inverse_transform(df3).tolist()\n",
    "plt.plot(df3)"
   ]
  },
  {
   "cell_type": "code",
   "execution_count": null,
   "id": "1d9ed6c2-b78c-48cb-a556-f33112f454cf",
   "metadata": {},
   "outputs": [],
   "source": []
  }
 ],
 "metadata": {
  "kernelspec": {
   "display_name": "Python 3 (ipykernel)",
   "language": "python",
   "name": "python3"
  },
  "language_info": {
   "codemirror_mode": {
    "name": "ipython",
    "version": 3
   },
   "file_extension": ".py",
   "mimetype": "text/x-python",
   "name": "python",
   "nbconvert_exporter": "python",
   "pygments_lexer": "ipython3",
   "version": "3.8.8"
  }
 },
 "nbformat": 4,
 "nbformat_minor": 5
}
