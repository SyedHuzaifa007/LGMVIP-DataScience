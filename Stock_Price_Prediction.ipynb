{
 "cells": [
  {
   "cell_type": "code",
   "execution_count": 1,
   "id": "d2428acd-c117-4547-8759-0b585c87f760",
   "metadata": {},
   "outputs": [],
   "source": [
    "#  Importing Libraries & Modules\n",
    "import numpy as np\n",
    "import pandas as pd\n",
    "import tensorflow as tf\n",
    "import matplotlib.pyplot as plt"
   ]
  },
  {
   "cell_type": "code",
   "execution_count": 2,
   "id": "e23ddae7-d9ed-4e25-b0e3-634a261ff3e2",
   "metadata": {},
   "outputs": [
    {
     "data": {
      "text/html": [
       "<div>\n",
       "<style scoped>\n",
       "    .dataframe tbody tr th:only-of-type {\n",
       "        vertical-align: middle;\n",
       "    }\n",
       "\n",
       "    .dataframe tbody tr th {\n",
       "        vertical-align: top;\n",
       "    }\n",
       "\n",
       "    .dataframe thead th {\n",
       "        text-align: right;\n",
       "    }\n",
       "</style>\n",
       "<table border=\"1\" class=\"dataframe\">\n",
       "  <thead>\n",
       "    <tr style=\"text-align: right;\">\n",
       "      <th></th>\n",
       "      <th></th>\n",
       "      <th></th>\n",
       "      <th></th>\n",
       "      <th></th>\n",
       "      <th></th>\n",
       "      <th></th>\n",
       "      <th></th>\n",
       "      <th>Table 1</th>\n",
       "    </tr>\n",
       "  </thead>\n",
       "  <tbody>\n",
       "    <tr>\n",
       "      <th rowspan=\"5\" valign=\"top\">NaN</th>\n",
       "      <th>NaN</th>\n",
       "      <th>NaN</th>\n",
       "      <th>NaN</th>\n",
       "      <th>NaN</th>\n",
       "      <th>NaN</th>\n",
       "      <th>NaN</th>\n",
       "      <th>NaN</th>\n",
       "      <td>NaN</td>\n",
       "    </tr>\n",
       "    <tr>\n",
       "      <th>Date</th>\n",
       "      <th>Open</th>\n",
       "      <th>High</th>\n",
       "      <th>Low</th>\n",
       "      <th>Last</th>\n",
       "      <th>Close</th>\n",
       "      <th>Total Trade Quantity</th>\n",
       "      <td>Turnover (Lacs)</td>\n",
       "    </tr>\n",
       "    <tr>\n",
       "      <th>2018-09-28</th>\n",
       "      <th>234.05</th>\n",
       "      <th>235.95</th>\n",
       "      <th>230.2</th>\n",
       "      <th>233.5</th>\n",
       "      <th>233.75</th>\n",
       "      <th>3069914</th>\n",
       "      <td>7162.35</td>\n",
       "    </tr>\n",
       "    <tr>\n",
       "      <th>2018-09-27</th>\n",
       "      <th>234.55</th>\n",
       "      <th>236.8</th>\n",
       "      <th>231.1</th>\n",
       "      <th>233.8</th>\n",
       "      <th>233.25</th>\n",
       "      <th>5082859</th>\n",
       "      <td>11859.95</td>\n",
       "    </tr>\n",
       "    <tr>\n",
       "      <th>2018-09-26</th>\n",
       "      <th>240</th>\n",
       "      <th>240</th>\n",
       "      <th>232.5</th>\n",
       "      <th>235</th>\n",
       "      <th>234.25</th>\n",
       "      <th>2240909</th>\n",
       "      <td>5248.6</td>\n",
       "    </tr>\n",
       "  </tbody>\n",
       "</table>\n",
       "</div>"
      ],
      "text/plain": [
       "                                                                              Table 1\n",
       "NaN NaN        NaN    NaN    NaN   NaN   NaN    NaN                               NaN\n",
       "    Date       Open   High   Low   Last  Close  Total Trade Quantity  Turnover (Lacs)\n",
       "    2018-09-28 234.05 235.95 230.2 233.5 233.75 3069914                       7162.35\n",
       "    2018-09-27 234.55 236.8  231.1 233.8 233.25 5082859                      11859.95\n",
       "    2018-09-26 240    240    232.5 235   234.25 2240909                        5248.6"
      ]
     },
     "execution_count": 2,
     "metadata": {},
     "output_type": "execute_result"
    }
   ],
   "source": [
    "# Importing Dataset\n",
    "path = \"Stock_Prediction_Dataset.csv\"\n",
    "raw_data = pd.read_csv(path)\n",
    "raw_data.head()"
   ]
  },
  {
   "cell_type": "code",
   "execution_count": 5,
   "id": "67c0f81f-3e09-42c9-94e3-e9d1db0b15e2",
   "metadata": {},
   "outputs": [],
   "source": [
    "raw_data = raw_data.drop(raw_data.index[0])"
   ]
  },
  {
   "cell_type": "code",
   "execution_count": 13,
   "id": "2831f66f-cc6a-4d20-97fe-48c0882ffbf5",
   "metadata": {},
   "outputs": [
    {
     "data": {
      "text/html": [
       "<div>\n",
       "<style scoped>\n",
       "    .dataframe tbody tr th:only-of-type {\n",
       "        vertical-align: middle;\n",
       "    }\n",
       "\n",
       "    .dataframe tbody tr th {\n",
       "        vertical-align: top;\n",
       "    }\n",
       "\n",
       "    .dataframe thead th {\n",
       "        text-align: right;\n",
       "    }\n",
       "</style>\n",
       "<table border=\"1\" class=\"dataframe\">\n",
       "  <thead>\n",
       "    <tr style=\"text-align: right;\">\n",
       "      <th></th>\n",
       "      <th></th>\n",
       "      <th></th>\n",
       "      <th></th>\n",
       "      <th></th>\n",
       "      <th></th>\n",
       "      <th></th>\n",
       "      <th></th>\n",
       "      <th>Table 1</th>\n",
       "    </tr>\n",
       "  </thead>\n",
       "  <tbody>\n",
       "    <tr>\n",
       "      <th rowspan=\"5\" valign=\"top\">NaN</th>\n",
       "      <th>Date</th>\n",
       "      <th>Open</th>\n",
       "      <th>High</th>\n",
       "      <th>Low</th>\n",
       "      <th>Last</th>\n",
       "      <th>Close</th>\n",
       "      <th>Total Trade Quantity</th>\n",
       "      <td>Turnover (Lacs)</td>\n",
       "    </tr>\n",
       "    <tr>\n",
       "      <th>2018-09-28</th>\n",
       "      <th>234.05</th>\n",
       "      <th>235.95</th>\n",
       "      <th>230.2</th>\n",
       "      <th>233.5</th>\n",
       "      <th>233.75</th>\n",
       "      <th>3069914</th>\n",
       "      <td>7162.35</td>\n",
       "    </tr>\n",
       "    <tr>\n",
       "      <th>2018-09-27</th>\n",
       "      <th>234.55</th>\n",
       "      <th>236.8</th>\n",
       "      <th>231.1</th>\n",
       "      <th>233.8</th>\n",
       "      <th>233.25</th>\n",
       "      <th>5082859</th>\n",
       "      <td>11859.95</td>\n",
       "    </tr>\n",
       "    <tr>\n",
       "      <th>2018-09-26</th>\n",
       "      <th>240</th>\n",
       "      <th>240</th>\n",
       "      <th>232.5</th>\n",
       "      <th>235</th>\n",
       "      <th>234.25</th>\n",
       "      <th>2240909</th>\n",
       "      <td>5248.6</td>\n",
       "    </tr>\n",
       "    <tr>\n",
       "      <th>2018-09-25</th>\n",
       "      <th>233.3</th>\n",
       "      <th>236.75</th>\n",
       "      <th>232</th>\n",
       "      <th>236.25</th>\n",
       "      <th>236.1</th>\n",
       "      <th>2349368</th>\n",
       "      <td>5503.9</td>\n",
       "    </tr>\n",
       "  </tbody>\n",
       "</table>\n",
       "</div>"
      ],
      "text/plain": [
       "                                                                               Table 1\n",
       "NaN Date       Open   High   Low   Last   Close  Total Trade Quantity  Turnover (Lacs)\n",
       "    2018-09-28 234.05 235.95 230.2 233.5  233.75 3069914                       7162.35\n",
       "    2018-09-27 234.55 236.8  231.1 233.8  233.25 5082859                      11859.95\n",
       "    2018-09-26 240    240    232.5 235    234.25 2240909                        5248.6\n",
       "    2018-09-25 233.3  236.75 232   236.25 236.1  2349368                        5503.9"
      ]
     },
     "execution_count": 13,
     "metadata": {},
     "output_type": "execute_result"
    }
   ],
   "source": [
    "raw_data.head()"
   ]
  },
  {
   "cell_type": "code",
   "execution_count": null,
   "id": "d12f6e57-a544-43cb-8024-3469d9d97cc2",
   "metadata": {},
   "outputs": [],
   "source": []
  },
  {
   "cell_type": "code",
   "execution_count": null,
   "id": "ba072f6d-a114-4f75-8f2b-dad5635608b4",
   "metadata": {},
   "outputs": [],
   "source": []
  },
  {
   "cell_type": "code",
   "execution_count": null,
   "id": "0bac9ad3-a8b2-4b28-a41e-310e1762cd93",
   "metadata": {},
   "outputs": [],
   "source": []
  },
  {
   "cell_type": "code",
   "execution_count": null,
   "id": "5ed327ef-9b4a-48d2-917b-104a0a6ca9c0",
   "metadata": {},
   "outputs": [],
   "source": []
  },
  {
   "cell_type": "code",
   "execution_count": null,
   "id": "783604b2-5e8b-4cc5-b5dc-e55f25752f67",
   "metadata": {},
   "outputs": [],
   "source": []
  },
  {
   "cell_type": "code",
   "execution_count": null,
   "id": "fc462d50-b551-4007-be87-9dae446b88eb",
   "metadata": {},
   "outputs": [],
   "source": []
  },
  {
   "cell_type": "code",
   "execution_count": null,
   "id": "950122c7-bbb1-4820-be87-943da261598a",
   "metadata": {},
   "outputs": [],
   "source": []
  },
  {
   "cell_type": "code",
   "execution_count": null,
   "id": "2d748613-c444-486e-af64-15fb55c87570",
   "metadata": {},
   "outputs": [],
   "source": []
  },
  {
   "cell_type": "code",
   "execution_count": null,
   "id": "7706621f-0794-47fc-877b-8c3575a4c1ee",
   "metadata": {},
   "outputs": [],
   "source": []
  },
  {
   "cell_type": "code",
   "execution_count": null,
   "id": "9428fbc8-52ae-44cd-8c1e-39aa2b8a2149",
   "metadata": {},
   "outputs": [],
   "source": []
  },
  {
   "cell_type": "code",
   "execution_count": null,
   "id": "496fa255-8208-42e0-881b-5c36e7174749",
   "metadata": {},
   "outputs": [],
   "source": []
  },
  {
   "cell_type": "code",
   "execution_count": null,
   "id": "4e882324-143c-43b2-8711-bc2b3fb9a6e2",
   "metadata": {},
   "outputs": [],
   "source": []
  },
  {
   "cell_type": "code",
   "execution_count": null,
   "id": "d5392bec-6937-4e8a-8c7f-1ea91d9f37c6",
   "metadata": {},
   "outputs": [],
   "source": []
  },
  {
   "cell_type": "code",
   "execution_count": null,
   "id": "f3e17407-8e8d-4afc-acda-0e5d8a084da3",
   "metadata": {},
   "outputs": [],
   "source": []
  },
  {
   "cell_type": "code",
   "execution_count": null,
   "id": "df85a00e-b6bc-4fba-a977-648c5c22386c",
   "metadata": {},
   "outputs": [],
   "source": []
  },
  {
   "cell_type": "code",
   "execution_count": null,
   "id": "289ed4a9-f991-415e-95fe-618a62b97542",
   "metadata": {},
   "outputs": [],
   "source": []
  },
  {
   "cell_type": "code",
   "execution_count": null,
   "id": "c5df277d-1b97-46e4-b1b3-c695990b0ee4",
   "metadata": {},
   "outputs": [],
   "source": []
  },
  {
   "cell_type": "code",
   "execution_count": null,
   "id": "5df2e89f-f7cf-45f0-8794-d1cfc049e222",
   "metadata": {},
   "outputs": [],
   "source": []
  },
  {
   "cell_type": "code",
   "execution_count": null,
   "id": "22fd9e0d-46c7-440e-aafe-9e82d0cb34bf",
   "metadata": {},
   "outputs": [],
   "source": []
  }
 ],
 "metadata": {
  "kernelspec": {
   "display_name": "Python 3",
   "language": "python",
   "name": "python3"
  },
  "language_info": {
   "codemirror_mode": {
    "name": "ipython",
    "version": 3
   },
   "file_extension": ".py",
   "mimetype": "text/x-python",
   "name": "python",
   "nbconvert_exporter": "python",
   "pygments_lexer": "ipython3",
   "version": "3.8.8"
  }
 },
 "nbformat": 4,
 "nbformat_minor": 5
}
